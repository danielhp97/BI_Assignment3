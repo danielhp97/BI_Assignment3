{
 "cells": [
  {
   "cell_type": "markdown",
   "metadata": {},
   "source": [
    "---\n",
    "## Table of Content\n",
    "---\n",
    "\n",
    "## 0. About the data\n",
    "\n",
    "## 1. Importing libraries and csv file\n",
    "\n",
    "## 2.Exploratory Data Analysis (EDA)\n",
    "* 2.1 A first look\n",
    "* 2.2 Distribution of Number of Transactions with respect to time\n",
    "* 2.3 Distribution of Value of Transactions with respect to time\n",
    "* 2.4 Visual comparison of regular and fraudulent transactions in data sample\n",
    "* 2.5 Visual Correlation (Heatmap)\n",
    "\n",
    "## 3. Data preparation and ML models\n",
    "* 3.1 Preparing the features with StandardScaler\n",
    "* 3.2 Splitting the dataset into train and test data\n",
    "* 3.3 Deal with the unbalanced dataset"
   ]
  },
  {
   "cell_type": "markdown",
   "metadata": {},
   "source": [
    "## 1. Importing libraries and csv file\n",
    "---\n",
    "Importing necessary packages (libraries) and the .csv file."
   ]
  },
  {
   "cell_type": "code",
   "execution_count": 32,
   "metadata": {},
   "outputs": [],
   "source": [
    "import pandas as pd\n",
    "import numpy as np\n",
    "import matplotlib.pyplot as plt\n",
    "import seaborn as sns; sns.set()\n",
    "\n",
    "from sklearn.linear_model import LogisticRegression\n",
    "from sklearn.tree import DecisionTreeClassifier\n",
    "from sklearn.model_selection import train_test_split\n",
    "from sklearn.preprocessing import StandardScaler\n",
    "from sklearn.metrics import confusion_matrix, classification_report, accuracy_score, roc_auc_score, roc_curve\n",
    "\n",
    "from imblearn.under_sampling import RandomUnderSampler\n",
    "\n",
    "from IPython.display import Image  \n",
    "from sklearn.tree import export_graphviz\n",
    "import pydotplus\n",
    "\n",
    "%matplotlib inline\n"
   ]
  },
  {
   "cell_type": "code",
   "execution_count": 33,
   "metadata": {},
   "outputs": [],
   "source": [
    "#import dataset\n",
    "file_path = \"./sao-paulo-properties-april-2019.csv\"\n",
    "df = pd.read_csv(file_path)"
   ]
  },
  {
   "cell_type": "markdown",
   "metadata": {},
   "source": [
    "## 2. Exploratory Data Analysis (EDA)\n",
    "---\n",
    "A first look at our data set."
   ]
  },
  {
   "cell_type": "code",
   "execution_count": 34,
   "metadata": {},
   "outputs": [
    {
     "data": {
      "text/html": [
       "<div>\n",
       "<style scoped>\n",
       "    .dataframe tbody tr th:only-of-type {\n",
       "        vertical-align: middle;\n",
       "    }\n",
       "\n",
       "    .dataframe tbody tr th {\n",
       "        vertical-align: top;\n",
       "    }\n",
       "\n",
       "    .dataframe thead th {\n",
       "        text-align: right;\n",
       "    }\n",
       "</style>\n",
       "<table border=\"1\" class=\"dataframe\">\n",
       "  <thead>\n",
       "    <tr style=\"text-align: right;\">\n",
       "      <th></th>\n",
       "      <th>Price</th>\n",
       "      <th>Condo</th>\n",
       "      <th>Size</th>\n",
       "      <th>Rooms</th>\n",
       "      <th>Toilets</th>\n",
       "      <th>Suites</th>\n",
       "      <th>Parking</th>\n",
       "      <th>Elevator</th>\n",
       "      <th>Furnished</th>\n",
       "      <th>Swimming Pool</th>\n",
       "      <th>New</th>\n",
       "      <th>District</th>\n",
       "      <th>Negotiation Type</th>\n",
       "      <th>Property Type</th>\n",
       "      <th>Latitude</th>\n",
       "      <th>Longitude</th>\n",
       "    </tr>\n",
       "  </thead>\n",
       "  <tbody>\n",
       "    <tr>\n",
       "      <th>0</th>\n",
       "      <td>930</td>\n",
       "      <td>220</td>\n",
       "      <td>47</td>\n",
       "      <td>2</td>\n",
       "      <td>2</td>\n",
       "      <td>1</td>\n",
       "      <td>1</td>\n",
       "      <td>0</td>\n",
       "      <td>0</td>\n",
       "      <td>0</td>\n",
       "      <td>0</td>\n",
       "      <td>Artur Alvim/São Paulo</td>\n",
       "      <td>rent</td>\n",
       "      <td>apartment</td>\n",
       "      <td>-23.543138</td>\n",
       "      <td>-46.479486</td>\n",
       "    </tr>\n",
       "    <tr>\n",
       "      <th>1</th>\n",
       "      <td>1000</td>\n",
       "      <td>148</td>\n",
       "      <td>45</td>\n",
       "      <td>2</td>\n",
       "      <td>2</td>\n",
       "      <td>1</td>\n",
       "      <td>1</td>\n",
       "      <td>0</td>\n",
       "      <td>0</td>\n",
       "      <td>0</td>\n",
       "      <td>0</td>\n",
       "      <td>Artur Alvim/São Paulo</td>\n",
       "      <td>rent</td>\n",
       "      <td>apartment</td>\n",
       "      <td>-23.550239</td>\n",
       "      <td>-46.480718</td>\n",
       "    </tr>\n",
       "    <tr>\n",
       "      <th>2</th>\n",
       "      <td>1000</td>\n",
       "      <td>100</td>\n",
       "      <td>48</td>\n",
       "      <td>2</td>\n",
       "      <td>2</td>\n",
       "      <td>1</td>\n",
       "      <td>1</td>\n",
       "      <td>0</td>\n",
       "      <td>0</td>\n",
       "      <td>0</td>\n",
       "      <td>0</td>\n",
       "      <td>Artur Alvim/São Paulo</td>\n",
       "      <td>rent</td>\n",
       "      <td>apartment</td>\n",
       "      <td>-23.542818</td>\n",
       "      <td>-46.485665</td>\n",
       "    </tr>\n",
       "    <tr>\n",
       "      <th>3</th>\n",
       "      <td>1000</td>\n",
       "      <td>200</td>\n",
       "      <td>48</td>\n",
       "      <td>2</td>\n",
       "      <td>2</td>\n",
       "      <td>1</td>\n",
       "      <td>1</td>\n",
       "      <td>0</td>\n",
       "      <td>0</td>\n",
       "      <td>0</td>\n",
       "      <td>0</td>\n",
       "      <td>Artur Alvim/São Paulo</td>\n",
       "      <td>rent</td>\n",
       "      <td>apartment</td>\n",
       "      <td>-23.547171</td>\n",
       "      <td>-46.483014</td>\n",
       "    </tr>\n",
       "    <tr>\n",
       "      <th>4</th>\n",
       "      <td>1300</td>\n",
       "      <td>410</td>\n",
       "      <td>55</td>\n",
       "      <td>2</td>\n",
       "      <td>2</td>\n",
       "      <td>1</td>\n",
       "      <td>1</td>\n",
       "      <td>1</td>\n",
       "      <td>0</td>\n",
       "      <td>0</td>\n",
       "      <td>0</td>\n",
       "      <td>Artur Alvim/São Paulo</td>\n",
       "      <td>rent</td>\n",
       "      <td>apartment</td>\n",
       "      <td>-23.525025</td>\n",
       "      <td>-46.482436</td>\n",
       "    </tr>\n",
       "  </tbody>\n",
       "</table>\n",
       "</div>"
      ],
      "text/plain": [
       "   Price  Condo  Size  Rooms  Toilets  Suites  Parking  Elevator  Furnished  \\\n",
       "0    930    220    47      2        2       1        1         0          0   \n",
       "1   1000    148    45      2        2       1        1         0          0   \n",
       "2   1000    100    48      2        2       1        1         0          0   \n",
       "3   1000    200    48      2        2       1        1         0          0   \n",
       "4   1300    410    55      2        2       1        1         1          0   \n",
       "\n",
       "   Swimming Pool  New               District Negotiation Type Property Type  \\\n",
       "0              0    0  Artur Alvim/São Paulo             rent     apartment   \n",
       "1              0    0  Artur Alvim/São Paulo             rent     apartment   \n",
       "2              0    0  Artur Alvim/São Paulo             rent     apartment   \n",
       "3              0    0  Artur Alvim/São Paulo             rent     apartment   \n",
       "4              0    0  Artur Alvim/São Paulo             rent     apartment   \n",
       "\n",
       "    Latitude  Longitude  \n",
       "0 -23.543138 -46.479486  \n",
       "1 -23.550239 -46.480718  \n",
       "2 -23.542818 -46.485665  \n",
       "3 -23.547171 -46.483014  \n",
       "4 -23.525025 -46.482436  "
      ]
     },
     "execution_count": 34,
     "metadata": {},
     "output_type": "execute_result"
    }
   ],
   "source": [
    "df.head()"
   ]
  },
  {
   "cell_type": "code",
   "execution_count": 35,
   "metadata": {},
   "outputs": [
    {
     "name": "stdout",
     "output_type": "stream",
     "text": [
      "               District Negotiation Type Property Type\n",
      "count             13640            13640         13640\n",
      "unique               96                2             1\n",
      "top     Moema/São Paulo             rent     apartment\n",
      "freq                293             7228         13640\n"
     ]
    }
   ],
   "source": [
    "# general statistics\n",
    "print(df.describe(include=object))"
   ]
  },
  {
   "cell_type": "code",
   "execution_count": 36,
   "metadata": {},
   "outputs": [
    {
     "data": {
      "text/html": [
       "<div>\n",
       "<style scoped>\n",
       "    .dataframe tbody tr th:only-of-type {\n",
       "        vertical-align: middle;\n",
       "    }\n",
       "\n",
       "    .dataframe tbody tr th {\n",
       "        vertical-align: top;\n",
       "    }\n",
       "\n",
       "    .dataframe thead th {\n",
       "        text-align: right;\n",
       "    }\n",
       "</style>\n",
       "<table border=\"1\" class=\"dataframe\">\n",
       "  <thead>\n",
       "    <tr style=\"text-align: right;\">\n",
       "      <th></th>\n",
       "      <th>Price</th>\n",
       "      <th>Condo</th>\n",
       "      <th>Size</th>\n",
       "      <th>Rooms</th>\n",
       "      <th>Toilets</th>\n",
       "      <th>Suites</th>\n",
       "      <th>Parking</th>\n",
       "      <th>Elevator</th>\n",
       "      <th>Furnished</th>\n",
       "      <th>Swimming Pool</th>\n",
       "      <th>New</th>\n",
       "      <th>Latitude</th>\n",
       "      <th>Longitude</th>\n",
       "    </tr>\n",
       "  </thead>\n",
       "  <tbody>\n",
       "    <tr>\n",
       "      <th>count</th>\n",
       "      <td>1.364000e+04</td>\n",
       "      <td>13640.000000</td>\n",
       "      <td>13640.000000</td>\n",
       "      <td>13640.000000</td>\n",
       "      <td>13640.000000</td>\n",
       "      <td>13640.000000</td>\n",
       "      <td>13640.000000</td>\n",
       "      <td>13640.000000</td>\n",
       "      <td>13640.000000</td>\n",
       "      <td>13640.00000</td>\n",
       "      <td>13640.000000</td>\n",
       "      <td>13640.000000</td>\n",
       "      <td>13640.000000</td>\n",
       "    </tr>\n",
       "    <tr>\n",
       "      <th>mean</th>\n",
       "      <td>2.877378e+05</td>\n",
       "      <td>689.882331</td>\n",
       "      <td>84.373900</td>\n",
       "      <td>2.312023</td>\n",
       "      <td>2.073680</td>\n",
       "      <td>0.980792</td>\n",
       "      <td>1.393182</td>\n",
       "      <td>0.354179</td>\n",
       "      <td>0.146774</td>\n",
       "      <td>0.51217</td>\n",
       "      <td>0.015616</td>\n",
       "      <td>-22.077047</td>\n",
       "      <td>-43.597088</td>\n",
       "    </tr>\n",
       "    <tr>\n",
       "      <th>std</th>\n",
       "      <td>5.908214e+05</td>\n",
       "      <td>757.649363</td>\n",
       "      <td>58.435676</td>\n",
       "      <td>0.777461</td>\n",
       "      <td>0.961803</td>\n",
       "      <td>0.834891</td>\n",
       "      <td>0.829932</td>\n",
       "      <td>0.478281</td>\n",
       "      <td>0.353894</td>\n",
       "      <td>0.49987</td>\n",
       "      <td>0.123988</td>\n",
       "      <td>5.866633</td>\n",
       "      <td>11.487288</td>\n",
       "    </tr>\n",
       "    <tr>\n",
       "      <th>min</th>\n",
       "      <td>4.800000e+02</td>\n",
       "      <td>0.000000</td>\n",
       "      <td>30.000000</td>\n",
       "      <td>1.000000</td>\n",
       "      <td>1.000000</td>\n",
       "      <td>0.000000</td>\n",
       "      <td>0.000000</td>\n",
       "      <td>0.000000</td>\n",
       "      <td>0.000000</td>\n",
       "      <td>0.00000</td>\n",
       "      <td>0.000000</td>\n",
       "      <td>-46.749039</td>\n",
       "      <td>-58.364352</td>\n",
       "    </tr>\n",
       "    <tr>\n",
       "      <th>25%</th>\n",
       "      <td>1.858750e+03</td>\n",
       "      <td>290.000000</td>\n",
       "      <td>50.000000</td>\n",
       "      <td>2.000000</td>\n",
       "      <td>2.000000</td>\n",
       "      <td>1.000000</td>\n",
       "      <td>1.000000</td>\n",
       "      <td>0.000000</td>\n",
       "      <td>0.000000</td>\n",
       "      <td>0.00000</td>\n",
       "      <td>0.000000</td>\n",
       "      <td>-23.594552</td>\n",
       "      <td>-46.681671</td>\n",
       "    </tr>\n",
       "    <tr>\n",
       "      <th>50%</th>\n",
       "      <td>8.100000e+03</td>\n",
       "      <td>500.000000</td>\n",
       "      <td>65.000000</td>\n",
       "      <td>2.000000</td>\n",
       "      <td>2.000000</td>\n",
       "      <td>1.000000</td>\n",
       "      <td>1.000000</td>\n",
       "      <td>0.000000</td>\n",
       "      <td>0.000000</td>\n",
       "      <td>1.00000</td>\n",
       "      <td>0.000000</td>\n",
       "      <td>-23.552813</td>\n",
       "      <td>-46.637255</td>\n",
       "    </tr>\n",
       "    <tr>\n",
       "      <th>75%</th>\n",
       "      <td>3.600000e+05</td>\n",
       "      <td>835.000000</td>\n",
       "      <td>94.000000</td>\n",
       "      <td>3.000000</td>\n",
       "      <td>2.000000</td>\n",
       "      <td>1.000000</td>\n",
       "      <td>2.000000</td>\n",
       "      <td>1.000000</td>\n",
       "      <td>0.000000</td>\n",
       "      <td>1.00000</td>\n",
       "      <td>0.000000</td>\n",
       "      <td>-23.517640</td>\n",
       "      <td>-46.560040</td>\n",
       "    </tr>\n",
       "    <tr>\n",
       "      <th>max</th>\n",
       "      <td>1.000000e+07</td>\n",
       "      <td>9500.000000</td>\n",
       "      <td>880.000000</td>\n",
       "      <td>10.000000</td>\n",
       "      <td>8.000000</td>\n",
       "      <td>6.000000</td>\n",
       "      <td>9.000000</td>\n",
       "      <td>1.000000</td>\n",
       "      <td>1.000000</td>\n",
       "      <td>1.00000</td>\n",
       "      <td>1.000000</td>\n",
       "      <td>0.000000</td>\n",
       "      <td>0.000000</td>\n",
       "    </tr>\n",
       "  </tbody>\n",
       "</table>\n",
       "</div>"
      ],
      "text/plain": [
       "              Price         Condo          Size         Rooms       Toilets  \\\n",
       "count  1.364000e+04  13640.000000  13640.000000  13640.000000  13640.000000   \n",
       "mean   2.877378e+05    689.882331     84.373900      2.312023      2.073680   \n",
       "std    5.908214e+05    757.649363     58.435676      0.777461      0.961803   \n",
       "min    4.800000e+02      0.000000     30.000000      1.000000      1.000000   \n",
       "25%    1.858750e+03    290.000000     50.000000      2.000000      2.000000   \n",
       "50%    8.100000e+03    500.000000     65.000000      2.000000      2.000000   \n",
       "75%    3.600000e+05    835.000000     94.000000      3.000000      2.000000   \n",
       "max    1.000000e+07   9500.000000    880.000000     10.000000      8.000000   \n",
       "\n",
       "             Suites       Parking      Elevator     Furnished  Swimming Pool  \\\n",
       "count  13640.000000  13640.000000  13640.000000  13640.000000    13640.00000   \n",
       "mean       0.980792      1.393182      0.354179      0.146774        0.51217   \n",
       "std        0.834891      0.829932      0.478281      0.353894        0.49987   \n",
       "min        0.000000      0.000000      0.000000      0.000000        0.00000   \n",
       "25%        1.000000      1.000000      0.000000      0.000000        0.00000   \n",
       "50%        1.000000      1.000000      0.000000      0.000000        1.00000   \n",
       "75%        1.000000      2.000000      1.000000      0.000000        1.00000   \n",
       "max        6.000000      9.000000      1.000000      1.000000        1.00000   \n",
       "\n",
       "                New      Latitude     Longitude  \n",
       "count  13640.000000  13640.000000  13640.000000  \n",
       "mean       0.015616    -22.077047    -43.597088  \n",
       "std        0.123988      5.866633     11.487288  \n",
       "min        0.000000    -46.749039    -58.364352  \n",
       "25%        0.000000    -23.594552    -46.681671  \n",
       "50%        0.000000    -23.552813    -46.637255  \n",
       "75%        0.000000    -23.517640    -46.560040  \n",
       "max        1.000000      0.000000      0.000000  "
      ]
     },
     "execution_count": 36,
     "metadata": {},
     "output_type": "execute_result"
    }
   ],
   "source": [
    "df.describe()"
   ]
  },
  {
   "cell_type": "code",
   "execution_count": 59,
   "metadata": {},
   "outputs": [
    {
     "data": {
      "text/html": [
       "<div>\n",
       "<style scoped>\n",
       "    .dataframe tbody tr th:only-of-type {\n",
       "        vertical-align: middle;\n",
       "    }\n",
       "\n",
       "    .dataframe tbody tr th {\n",
       "        vertical-align: top;\n",
       "    }\n",
       "\n",
       "    .dataframe thead th {\n",
       "        text-align: right;\n",
       "    }\n",
       "</style>\n",
       "<table border=\"1\" class=\"dataframe\">\n",
       "  <thead>\n",
       "    <tr style=\"text-align: right;\">\n",
       "      <th></th>\n",
       "      <th>Price</th>\n",
       "      <th>Condo</th>\n",
       "      <th>Size</th>\n",
       "      <th>Rooms</th>\n",
       "      <th>Toilets</th>\n",
       "      <th>Suites</th>\n",
       "      <th>Parking</th>\n",
       "      <th>Elevator</th>\n",
       "      <th>Furnished</th>\n",
       "      <th>Swimming Pool</th>\n",
       "      <th>New</th>\n",
       "      <th>Latitude</th>\n",
       "      <th>Longitude</th>\n",
       "    </tr>\n",
       "  </thead>\n",
       "  <tbody>\n",
       "    <tr>\n",
       "      <th>Price</th>\n",
       "      <td>1.000000</td>\n",
       "      <td>0.203857</td>\n",
       "      <td>0.378450</td>\n",
       "      <td>0.272267</td>\n",
       "      <td>0.341887</td>\n",
       "      <td>0.313267</td>\n",
       "      <td>0.337959</td>\n",
       "      <td>0.102495</td>\n",
       "      <td>-0.006385</td>\n",
       "      <td>0.131494</td>\n",
       "      <td>0.033812</td>\n",
       "      <td>-0.021678</td>\n",
       "      <td>-0.024897</td>\n",
       "    </tr>\n",
       "    <tr>\n",
       "      <th>Condo</th>\n",
       "      <td>0.203857</td>\n",
       "      <td>1.000000</td>\n",
       "      <td>0.761019</td>\n",
       "      <td>0.451355</td>\n",
       "      <td>0.543094</td>\n",
       "      <td>0.535896</td>\n",
       "      <td>0.632137</td>\n",
       "      <td>0.000779</td>\n",
       "      <td>0.101748</td>\n",
       "      <td>0.157123</td>\n",
       "      <td>-0.082479</td>\n",
       "      <td>-0.029288</td>\n",
       "      <td>-0.032258</td>\n",
       "    </tr>\n",
       "    <tr>\n",
       "      <th>Size</th>\n",
       "      <td>0.378450</td>\n",
       "      <td>0.761019</td>\n",
       "      <td>1.000000</td>\n",
       "      <td>0.663280</td>\n",
       "      <td>0.684416</td>\n",
       "      <td>0.675828</td>\n",
       "      <td>0.741757</td>\n",
       "      <td>0.012513</td>\n",
       "      <td>0.033325</td>\n",
       "      <td>0.130841</td>\n",
       "      <td>-0.046182</td>\n",
       "      <td>-0.035356</td>\n",
       "      <td>-0.038486</td>\n",
       "    </tr>\n",
       "    <tr>\n",
       "      <th>Rooms</th>\n",
       "      <td>0.272267</td>\n",
       "      <td>0.451355</td>\n",
       "      <td>0.663280</td>\n",
       "      <td>1.000000</td>\n",
       "      <td>0.554324</td>\n",
       "      <td>0.527250</td>\n",
       "      <td>0.589587</td>\n",
       "      <td>0.035810</td>\n",
       "      <td>-0.054274</td>\n",
       "      <td>0.161721</td>\n",
       "      <td>-0.010999</td>\n",
       "      <td>-0.049751</td>\n",
       "      <td>-0.051009</td>\n",
       "    </tr>\n",
       "    <tr>\n",
       "      <th>Toilets</th>\n",
       "      <td>0.341887</td>\n",
       "      <td>0.543094</td>\n",
       "      <td>0.684416</td>\n",
       "      <td>0.554324</td>\n",
       "      <td>1.000000</td>\n",
       "      <td>0.910445</td>\n",
       "      <td>0.694664</td>\n",
       "      <td>0.178360</td>\n",
       "      <td>0.078729</td>\n",
       "      <td>0.263564</td>\n",
       "      <td>-0.028709</td>\n",
       "      <td>-0.135492</td>\n",
       "      <td>-0.137089</td>\n",
       "    </tr>\n",
       "    <tr>\n",
       "      <th>Suites</th>\n",
       "      <td>0.313267</td>\n",
       "      <td>0.535896</td>\n",
       "      <td>0.675828</td>\n",
       "      <td>0.527250</td>\n",
       "      <td>0.910445</td>\n",
       "      <td>1.000000</td>\n",
       "      <td>0.704515</td>\n",
       "      <td>0.140794</td>\n",
       "      <td>0.072325</td>\n",
       "      <td>0.266896</td>\n",
       "      <td>-0.040307</td>\n",
       "      <td>-0.138138</td>\n",
       "      <td>-0.139654</td>\n",
       "    </tr>\n",
       "    <tr>\n",
       "      <th>Parking</th>\n",
       "      <td>0.337959</td>\n",
       "      <td>0.632137</td>\n",
       "      <td>0.741757</td>\n",
       "      <td>0.589587</td>\n",
       "      <td>0.694664</td>\n",
       "      <td>0.704515</td>\n",
       "      <td>1.000000</td>\n",
       "      <td>0.053850</td>\n",
       "      <td>0.080594</td>\n",
       "      <td>0.293948</td>\n",
       "      <td>-0.024046</td>\n",
       "      <td>-0.060613</td>\n",
       "      <td>-0.062953</td>\n",
       "    </tr>\n",
       "    <tr>\n",
       "      <th>Elevator</th>\n",
       "      <td>0.102495</td>\n",
       "      <td>0.000779</td>\n",
       "      <td>0.012513</td>\n",
       "      <td>0.035810</td>\n",
       "      <td>0.178360</td>\n",
       "      <td>0.140794</td>\n",
       "      <td>0.053850</td>\n",
       "      <td>1.000000</td>\n",
       "      <td>0.066680</td>\n",
       "      <td>0.204461</td>\n",
       "      <td>0.170077</td>\n",
       "      <td>-0.127179</td>\n",
       "      <td>-0.121063</td>\n",
       "    </tr>\n",
       "    <tr>\n",
       "      <th>Furnished</th>\n",
       "      <td>-0.006385</td>\n",
       "      <td>0.101748</td>\n",
       "      <td>0.033325</td>\n",
       "      <td>-0.054274</td>\n",
       "      <td>0.078729</td>\n",
       "      <td>0.072325</td>\n",
       "      <td>0.080594</td>\n",
       "      <td>0.066680</td>\n",
       "      <td>1.000000</td>\n",
       "      <td>0.146984</td>\n",
       "      <td>-0.045555</td>\n",
       "      <td>-0.018098</td>\n",
       "      <td>-0.016798</td>\n",
       "    </tr>\n",
       "    <tr>\n",
       "      <th>Swimming Pool</th>\n",
       "      <td>0.131494</td>\n",
       "      <td>0.157123</td>\n",
       "      <td>0.130841</td>\n",
       "      <td>0.161721</td>\n",
       "      <td>0.263564</td>\n",
       "      <td>0.266896</td>\n",
       "      <td>0.293948</td>\n",
       "      <td>0.204461</td>\n",
       "      <td>0.146984</td>\n",
       "      <td>1.000000</td>\n",
       "      <td>0.006989</td>\n",
       "      <td>-0.038082</td>\n",
       "      <td>-0.035105</td>\n",
       "    </tr>\n",
       "    <tr>\n",
       "      <th>New</th>\n",
       "      <td>0.033812</td>\n",
       "      <td>-0.082479</td>\n",
       "      <td>-0.046182</td>\n",
       "      <td>-0.010999</td>\n",
       "      <td>-0.028709</td>\n",
       "      <td>-0.040307</td>\n",
       "      <td>-0.024046</td>\n",
       "      <td>0.170077</td>\n",
       "      <td>-0.045555</td>\n",
       "      <td>0.006989</td>\n",
       "      <td>1.000000</td>\n",
       "      <td>-0.001088</td>\n",
       "      <td>-0.002022</td>\n",
       "    </tr>\n",
       "    <tr>\n",
       "      <th>Latitude</th>\n",
       "      <td>-0.021678</td>\n",
       "      <td>-0.029288</td>\n",
       "      <td>-0.035356</td>\n",
       "      <td>-0.049751</td>\n",
       "      <td>-0.135492</td>\n",
       "      <td>-0.138138</td>\n",
       "      <td>-0.060613</td>\n",
       "      <td>-0.127179</td>\n",
       "      <td>-0.018098</td>\n",
       "      <td>-0.038082</td>\n",
       "      <td>-0.001088</td>\n",
       "      <td>1.000000</td>\n",
       "      <td>0.976940</td>\n",
       "    </tr>\n",
       "    <tr>\n",
       "      <th>Longitude</th>\n",
       "      <td>-0.024897</td>\n",
       "      <td>-0.032258</td>\n",
       "      <td>-0.038486</td>\n",
       "      <td>-0.051009</td>\n",
       "      <td>-0.137089</td>\n",
       "      <td>-0.139654</td>\n",
       "      <td>-0.062953</td>\n",
       "      <td>-0.121063</td>\n",
       "      <td>-0.016798</td>\n",
       "      <td>-0.035105</td>\n",
       "      <td>-0.002022</td>\n",
       "      <td>0.976940</td>\n",
       "      <td>1.000000</td>\n",
       "    </tr>\n",
       "  </tbody>\n",
       "</table>\n",
       "</div>"
      ],
      "text/plain": [
       "                  Price     Condo      Size     Rooms   Toilets    Suites  \\\n",
       "Price          1.000000  0.203857  0.378450  0.272267  0.341887  0.313267   \n",
       "Condo          0.203857  1.000000  0.761019  0.451355  0.543094  0.535896   \n",
       "Size           0.378450  0.761019  1.000000  0.663280  0.684416  0.675828   \n",
       "Rooms          0.272267  0.451355  0.663280  1.000000  0.554324  0.527250   \n",
       "Toilets        0.341887  0.543094  0.684416  0.554324  1.000000  0.910445   \n",
       "Suites         0.313267  0.535896  0.675828  0.527250  0.910445  1.000000   \n",
       "Parking        0.337959  0.632137  0.741757  0.589587  0.694664  0.704515   \n",
       "Elevator       0.102495  0.000779  0.012513  0.035810  0.178360  0.140794   \n",
       "Furnished     -0.006385  0.101748  0.033325 -0.054274  0.078729  0.072325   \n",
       "Swimming Pool  0.131494  0.157123  0.130841  0.161721  0.263564  0.266896   \n",
       "New            0.033812 -0.082479 -0.046182 -0.010999 -0.028709 -0.040307   \n",
       "Latitude      -0.021678 -0.029288 -0.035356 -0.049751 -0.135492 -0.138138   \n",
       "Longitude     -0.024897 -0.032258 -0.038486 -0.051009 -0.137089 -0.139654   \n",
       "\n",
       "                Parking  Elevator  Furnished  Swimming Pool       New  \\\n",
       "Price          0.337959  0.102495  -0.006385       0.131494  0.033812   \n",
       "Condo          0.632137  0.000779   0.101748       0.157123 -0.082479   \n",
       "Size           0.741757  0.012513   0.033325       0.130841 -0.046182   \n",
       "Rooms          0.589587  0.035810  -0.054274       0.161721 -0.010999   \n",
       "Toilets        0.694664  0.178360   0.078729       0.263564 -0.028709   \n",
       "Suites         0.704515  0.140794   0.072325       0.266896 -0.040307   \n",
       "Parking        1.000000  0.053850   0.080594       0.293948 -0.024046   \n",
       "Elevator       0.053850  1.000000   0.066680       0.204461  0.170077   \n",
       "Furnished      0.080594  0.066680   1.000000       0.146984 -0.045555   \n",
       "Swimming Pool  0.293948  0.204461   0.146984       1.000000  0.006989   \n",
       "New           -0.024046  0.170077  -0.045555       0.006989  1.000000   \n",
       "Latitude      -0.060613 -0.127179  -0.018098      -0.038082 -0.001088   \n",
       "Longitude     -0.062953 -0.121063  -0.016798      -0.035105 -0.002022   \n",
       "\n",
       "               Latitude  Longitude  \n",
       "Price         -0.021678  -0.024897  \n",
       "Condo         -0.029288  -0.032258  \n",
       "Size          -0.035356  -0.038486  \n",
       "Rooms         -0.049751  -0.051009  \n",
       "Toilets       -0.135492  -0.137089  \n",
       "Suites        -0.138138  -0.139654  \n",
       "Parking       -0.060613  -0.062953  \n",
       "Elevator      -0.127179  -0.121063  \n",
       "Furnished     -0.018098  -0.016798  \n",
       "Swimming Pool -0.038082  -0.035105  \n",
       "New           -0.001088  -0.002022  \n",
       "Latitude       1.000000   0.976940  \n",
       "Longitude      0.976940   1.000000  "
      ]
     },
     "execution_count": 59,
     "metadata": {},
     "output_type": "execute_result"
    }
   ],
   "source": [
    "df.corr()"
   ]
  },
  {
   "cell_type": "code",
   "execution_count": 58,
   "metadata": {},
   "outputs": [
    {
     "data": {
      "image/png": "[encoded data removed]",
      "text/plain": [
       "<Figure size 648x504 with 2 Axes>"
      ]
     },
     "metadata": {
      "needs_background": "light"
     },
     "output_type": "display_data"
    }
   ],
   "source": [
    "# correlations\n",
    "corr = df.corr() # calculate correlation matrix\n",
    "fig, ax = plt.subplots(figsize=(9, 7))\n",
    "#mask = np.triu(np.ones_like(corr, dtype=bool)) # Hides right upper triangle on heatmap\n",
    "\n",
    "\n",
    "sns.heatmap(corr, xticklabels=corr.columns, yticklabels=corr.columns,\n",
    "            vmax=.3,\n",
    "            square=True,\n",
    "            linewidths=.1,\n",
    "#            mask = mask,\n",
    "            cmap=\"RdYlBu\",\n",
    "            ax=ax)\n",
    "\n",
    "ax.set_title('Correlation of Features', fontsize=17)\n",
    "ax.tick_params(axis='both', labelsize=14) # size of numbers on x- and y-axis\n",
    "\n",
    "plt.tight_layout()\n",
    "plt.savefig('graph4.png')"
   ]
  },
  {
   "cell_type": "code",
   "execution_count": 38,
   "metadata": {},
   "outputs": [
    {
     "data": {
      "text/plain": [
       "Price               0\n",
       "Condo               0\n",
       "Size                0\n",
       "Rooms               0\n",
       "Toilets             0\n",
       "Suites              0\n",
       "Parking             0\n",
       "Elevator            0\n",
       "Furnished           0\n",
       "Swimming Pool       0\n",
       "New                 0\n",
       "District            0\n",
       "Negotiation Type    0\n",
       "Property Type       0\n",
       "Latitude            0\n",
       "Longitude           0\n",
       "dtype: int64"
      ]
     },
     "execution_count": 38,
     "metadata": {},
     "output_type": "execute_result"
    }
   ],
   "source": [
    "# check is there is null values\n",
    "df.isnull().sum()"
   ]
  },
  {
   "cell_type": "code",
   "execution_count": 39,
   "metadata": {},
   "outputs": [
    {
     "data": {
      "text/html": [
       "<div>\n",
       "<style scoped>\n",
       "    .dataframe tbody tr th:only-of-type {\n",
       "        vertical-align: middle;\n",
       "    }\n",
       "\n",
       "    .dataframe tbody tr th {\n",
       "        vertical-align: top;\n",
       "    }\n",
       "\n",
       "    .dataframe thead th {\n",
       "        text-align: right;\n",
       "    }\n",
       "</style>\n",
       "<table border=\"1\" class=\"dataframe\">\n",
       "  <thead>\n",
       "    <tr style=\"text-align: right;\">\n",
       "      <th></th>\n",
       "      <th>Price</th>\n",
       "      <th>Condo</th>\n",
       "      <th>Size</th>\n",
       "      <th>Rooms</th>\n",
       "      <th>Toilets</th>\n",
       "      <th>Suites</th>\n",
       "      <th>Parking</th>\n",
       "      <th>Elevator</th>\n",
       "      <th>Furnished</th>\n",
       "      <th>Swimming Pool</th>\n",
       "      <th>New</th>\n",
       "      <th>District</th>\n",
       "      <th>Negotiation Type</th>\n",
       "      <th>Property Type</th>\n",
       "      <th>Latitude</th>\n",
       "      <th>Longitude</th>\n",
       "    </tr>\n",
       "  </thead>\n",
       "  <tbody>\n",
       "    <tr>\n",
       "      <th>0</th>\n",
       "      <td>930</td>\n",
       "      <td>220</td>\n",
       "      <td>47</td>\n",
       "      <td>2</td>\n",
       "      <td>2</td>\n",
       "      <td>1</td>\n",
       "      <td>1</td>\n",
       "      <td>0</td>\n",
       "      <td>0</td>\n",
       "      <td>0</td>\n",
       "      <td>0</td>\n",
       "      <td>Artur Alvim/Sao Paulo</td>\n",
       "      <td>rent</td>\n",
       "      <td>apartment</td>\n",
       "      <td>-23.543138</td>\n",
       "      <td>-46.479486</td>\n",
       "    </tr>\n",
       "    <tr>\n",
       "      <th>1</th>\n",
       "      <td>1000</td>\n",
       "      <td>148</td>\n",
       "      <td>45</td>\n",
       "      <td>2</td>\n",
       "      <td>2</td>\n",
       "      <td>1</td>\n",
       "      <td>1</td>\n",
       "      <td>0</td>\n",
       "      <td>0</td>\n",
       "      <td>0</td>\n",
       "      <td>0</td>\n",
       "      <td>Artur Alvim/Sao Paulo</td>\n",
       "      <td>rent</td>\n",
       "      <td>apartment</td>\n",
       "      <td>-23.550239</td>\n",
       "      <td>-46.480718</td>\n",
       "    </tr>\n",
       "    <tr>\n",
       "      <th>2</th>\n",
       "      <td>1000</td>\n",
       "      <td>100</td>\n",
       "      <td>48</td>\n",
       "      <td>2</td>\n",
       "      <td>2</td>\n",
       "      <td>1</td>\n",
       "      <td>1</td>\n",
       "      <td>0</td>\n",
       "      <td>0</td>\n",
       "      <td>0</td>\n",
       "      <td>0</td>\n",
       "      <td>Artur Alvim/Sao Paulo</td>\n",
       "      <td>rent</td>\n",
       "      <td>apartment</td>\n",
       "      <td>-23.542818</td>\n",
       "      <td>-46.485665</td>\n",
       "    </tr>\n",
       "    <tr>\n",
       "      <th>3</th>\n",
       "      <td>1000</td>\n",
       "      <td>200</td>\n",
       "      <td>48</td>\n",
       "      <td>2</td>\n",
       "      <td>2</td>\n",
       "      <td>1</td>\n",
       "      <td>1</td>\n",
       "      <td>0</td>\n",
       "      <td>0</td>\n",
       "      <td>0</td>\n",
       "      <td>0</td>\n",
       "      <td>Artur Alvim/Sao Paulo</td>\n",
       "      <td>rent</td>\n",
       "      <td>apartment</td>\n",
       "      <td>-23.547171</td>\n",
       "      <td>-46.483014</td>\n",
       "    </tr>\n",
       "    <tr>\n",
       "      <th>4</th>\n",
       "      <td>1300</td>\n",
       "      <td>410</td>\n",
       "      <td>55</td>\n",
       "      <td>2</td>\n",
       "      <td>2</td>\n",
       "      <td>1</td>\n",
       "      <td>1</td>\n",
       "      <td>1</td>\n",
       "      <td>0</td>\n",
       "      <td>0</td>\n",
       "      <td>0</td>\n",
       "      <td>Artur Alvim/Sao Paulo</td>\n",
       "      <td>rent</td>\n",
       "      <td>apartment</td>\n",
       "      <td>-23.525025</td>\n",
       "      <td>-46.482436</td>\n",
       "    </tr>\n",
       "    <tr>\n",
       "      <th>...</th>\n",
       "      <td>...</td>\n",
       "      <td>...</td>\n",
       "      <td>...</td>\n",
       "      <td>...</td>\n",
       "      <td>...</td>\n",
       "      <td>...</td>\n",
       "      <td>...</td>\n",
       "      <td>...</td>\n",
       "      <td>...</td>\n",
       "      <td>...</td>\n",
       "      <td>...</td>\n",
       "      <td>...</td>\n",
       "      <td>...</td>\n",
       "      <td>...</td>\n",
       "      <td>...</td>\n",
       "      <td>...</td>\n",
       "    </tr>\n",
       "    <tr>\n",
       "      <th>13635</th>\n",
       "      <td>265000</td>\n",
       "      <td>420</td>\n",
       "      <td>51</td>\n",
       "      <td>2</td>\n",
       "      <td>1</td>\n",
       "      <td>0</td>\n",
       "      <td>1</td>\n",
       "      <td>0</td>\n",
       "      <td>0</td>\n",
       "      <td>0</td>\n",
       "      <td>0</td>\n",
       "      <td>Jabaquara/Sao Paulo</td>\n",
       "      <td>sale</td>\n",
       "      <td>apartment</td>\n",
       "      <td>-23.653004</td>\n",
       "      <td>-46.635463</td>\n",
       "    </tr>\n",
       "    <tr>\n",
       "      <th>13636</th>\n",
       "      <td>545000</td>\n",
       "      <td>630</td>\n",
       "      <td>74</td>\n",
       "      <td>3</td>\n",
       "      <td>2</td>\n",
       "      <td>1</td>\n",
       "      <td>2</td>\n",
       "      <td>0</td>\n",
       "      <td>0</td>\n",
       "      <td>1</td>\n",
       "      <td>0</td>\n",
       "      <td>Jabaquara/Sao Paulo</td>\n",
       "      <td>sale</td>\n",
       "      <td>apartment</td>\n",
       "      <td>-23.648930</td>\n",
       "      <td>-46.641982</td>\n",
       "    </tr>\n",
       "    <tr>\n",
       "      <th>13637</th>\n",
       "      <td>515000</td>\n",
       "      <td>1100</td>\n",
       "      <td>114</td>\n",
       "      <td>3</td>\n",
       "      <td>3</td>\n",
       "      <td>1</td>\n",
       "      <td>1</td>\n",
       "      <td>0</td>\n",
       "      <td>0</td>\n",
       "      <td>1</td>\n",
       "      <td>0</td>\n",
       "      <td>Jabaquara/Sao Paulo</td>\n",
       "      <td>sale</td>\n",
       "      <td>apartment</td>\n",
       "      <td>-23.649693</td>\n",
       "      <td>-46.649783</td>\n",
       "    </tr>\n",
       "    <tr>\n",
       "      <th>13638</th>\n",
       "      <td>345000</td>\n",
       "      <td>48</td>\n",
       "      <td>39</td>\n",
       "      <td>1</td>\n",
       "      <td>2</td>\n",
       "      <td>1</td>\n",
       "      <td>1</td>\n",
       "      <td>0</td>\n",
       "      <td>1</td>\n",
       "      <td>1</td>\n",
       "      <td>0</td>\n",
       "      <td>Jabaquara/Sao Paulo</td>\n",
       "      <td>sale</td>\n",
       "      <td>apartment</td>\n",
       "      <td>-23.652060</td>\n",
       "      <td>-46.637046</td>\n",
       "    </tr>\n",
       "    <tr>\n",
       "      <th>13639</th>\n",
       "      <td>161987</td>\n",
       "      <td>0</td>\n",
       "      <td>44</td>\n",
       "      <td>2</td>\n",
       "      <td>1</td>\n",
       "      <td>0</td>\n",
       "      <td>1</td>\n",
       "      <td>0</td>\n",
       "      <td>0</td>\n",
       "      <td>0</td>\n",
       "      <td>0</td>\n",
       "      <td>Jardim Angela/Sao Paulo</td>\n",
       "      <td>sale</td>\n",
       "      <td>apartment</td>\n",
       "      <td>-23.613391</td>\n",
       "      <td>-46.523109</td>\n",
       "    </tr>\n",
       "  </tbody>\n",
       "</table>\n",
       "<p>13640 rows × 16 columns</p>\n",
       "</div>"
      ],
      "text/plain": [
       "        Price  Condo  Size  Rooms  Toilets  Suites  Parking  Elevator  \\\n",
       "0         930    220    47      2        2       1        1         0   \n",
       "1        1000    148    45      2        2       1        1         0   \n",
       "2        1000    100    48      2        2       1        1         0   \n",
       "3        1000    200    48      2        2       1        1         0   \n",
       "4        1300    410    55      2        2       1        1         1   \n",
       "...       ...    ...   ...    ...      ...     ...      ...       ...   \n",
       "13635  265000    420    51      2        1       0        1         0   \n",
       "13636  545000    630    74      3        2       1        2         0   \n",
       "13637  515000   1100   114      3        3       1        1         0   \n",
       "13638  345000     48    39      1        2       1        1         0   \n",
       "13639  161987      0    44      2        1       0        1         0   \n",
       "\n",
       "       Furnished  Swimming Pool  New                 District  \\\n",
       "0              0              0    0    Artur Alvim/Sao Paulo   \n",
       "1              0              0    0    Artur Alvim/Sao Paulo   \n",
       "2              0              0    0    Artur Alvim/Sao Paulo   \n",
       "3              0              0    0    Artur Alvim/Sao Paulo   \n",
       "4              0              0    0    Artur Alvim/Sao Paulo   \n",
       "...          ...            ...  ...                      ...   \n",
       "13635          0              0    0      Jabaquara/Sao Paulo   \n",
       "13636          0              1    0      Jabaquara/Sao Paulo   \n",
       "13637          0              1    0      Jabaquara/Sao Paulo   \n",
       "13638          1              1    0      Jabaquara/Sao Paulo   \n",
       "13639          0              0    0  Jardim Angela/Sao Paulo   \n",
       "\n",
       "      Negotiation Type Property Type   Latitude  Longitude  \n",
       "0                 rent     apartment -23.543138 -46.479486  \n",
       "1                 rent     apartment -23.550239 -46.480718  \n",
       "2                 rent     apartment -23.542818 -46.485665  \n",
       "3                 rent     apartment -23.547171 -46.483014  \n",
       "4                 rent     apartment -23.525025 -46.482436  \n",
       "...                ...           ...        ...        ...  \n",
       "13635             sale     apartment -23.653004 -46.635463  \n",
       "13636             sale     apartment -23.648930 -46.641982  \n",
       "13637             sale     apartment -23.649693 -46.649783  \n",
       "13638             sale     apartment -23.652060 -46.637046  \n",
       "13639             sale     apartment -23.613391 -46.523109  \n",
       "\n",
       "[13640 rows x 16 columns]"
      ]
     },
     "execution_count": 39,
     "metadata": {},
     "output_type": "execute_result"
    }
   ],
   "source": [
    "# remove accents to avoid errors\n",
    "df[\"District\"] = df[\"District\"].str.normalize('NFKD').str.encode('ascii', errors='ignore').str.decode('utf-8')\n",
    "df"
   ]
  },
  {
   "cell_type": "code",
   "execution_count": 40,
   "metadata": {},
   "outputs": [
    {
     "data": {
      "text/plain": [
       "<AxesSubplot:ylabel='Frequency'>"
      ]
     },
     "execution_count": 40,
     "metadata": {},
     "output_type": "execute_result"
    },
    {
     "data": {
      "image/png": "[encoded data removed]",
      "text/plain": [
       "<Figure size 432x288 with 1 Axes>"
      ]
     },
     "metadata": {
      "needs_background": "light"
     },
     "output_type": "display_data"
    }
   ],
   "source": [
    "# Data Visualization: We need to check values distribution for each column\n",
    "# we can divide it according to the \\% Quartiles\n",
    "df[\"Price\"].plot.hist() \n"
   ]
  },
  {
   "cell_type": "code",
   "execution_count": 41,
   "metadata": {},
   "outputs": [
    {
     "data": {
      "text/plain": [
       "<AxesSubplot:ylabel='Frequency'>"
      ]
     },
     "execution_count": 41,
     "metadata": {},
     "output_type": "execute_result"
    },
    {
     "data": {
      "image/png": "[encoded data removed]",
      "text/plain": [
       "<Figure size 432x288 with 1 Axes>"
      ]
     },
     "metadata": {
      "needs_background": "light"
     },
     "output_type": "display_data"
    }
   ],
   "source": [
    "df[\"Condo\"].plot.hist() "
   ]
  },
  {
   "cell_type": "code",
   "execution_count": 42,
   "metadata": {},
   "outputs": [
    {
     "data": {
      "text/plain": [
       "<AxesSubplot:ylabel='Frequency'>"
      ]
     },
     "execution_count": 42,
     "metadata": {},
     "output_type": "execute_result"
    },
    {
     "data": {
      "image/png": "[encoded data removed]",
      "text/plain": [
       "<Figure size 432x288 with 1 Axes>"
      ]
     },
     "metadata": {
      "needs_background": "light"
     },
     "output_type": "display_data"
    }
   ],
   "source": [
    "df[\"Size\"].plot.hist() "
   ]
  },
  {
   "cell_type": "code",
   "execution_count": 43,
   "metadata": {},
   "outputs": [
    {
     "data": {
      "text/plain": [
       "<AxesSubplot:ylabel='Frequency'>"
      ]
     },
     "execution_count": 43,
     "metadata": {},
     "output_type": "execute_result"
    },
    {
     "data": {
      "image/png": "[encoded data removed]",
      "text/plain": [
       "<Figure size 432x288 with 1 Axes>"
      ]
     },
     "metadata": {
      "needs_background": "light"
     },
     "output_type": "display_data"
    }
   ],
   "source": [
    "df[\"Rooms\"].plot.hist() "
   ]
  },
  {
   "cell_type": "code",
   "execution_count": 44,
   "metadata": {},
   "outputs": [
    {
     "data": {
      "text/plain": [
       "<AxesSubplot:ylabel='Frequency'>"
      ]
     },
     "execution_count": 44,
     "metadata": {},
     "output_type": "execute_result"
    },
    {
     "data": {
      "image/png": "[encoded data removed]",
      "text/plain": [
       "<Figure size 432x288 with 1 Axes>"
      ]
     },
     "metadata": {
      "needs_background": "light"
     },
     "output_type": "display_data"
    }
   ],
   "source": [
    "df[\"Toilets\"].plot.hist() "
   ]
  },
  {
   "cell_type": "code",
   "execution_count": 45,
   "metadata": {},
   "outputs": [
    {
     "data": {
      "text/plain": [
       "<AxesSubplot:ylabel='Frequency'>"
      ]
     },
     "execution_count": 45,
     "metadata": {},
     "output_type": "execute_result"
    },
    {
     "data": {
      "image/png": "[encoded data removed]",
      "text/plain": [
       "<Figure size 432x288 with 1 Axes>"
      ]
     },
     "metadata": {
      "needs_background": "light"
     },
     "output_type": "display_data"
    }
   ],
   "source": [
    "df[\"Suites\"].plot.hist() "
   ]
  },
  {
   "cell_type": "code",
   "execution_count": 46,
   "metadata": {},
   "outputs": [
    {
     "data": {
      "text/plain": [
       "<AxesSubplot:ylabel='Frequency'>"
      ]
     },
     "execution_count": 46,
     "metadata": {},
     "output_type": "execute_result"
    },
    {
     "data": {
      "image/png": "[encoded data removed]",
      "text/plain": [
       "<Figure size 432x288 with 1 Axes>"
      ]
     },
     "metadata": {
      "needs_background": "light"
     },
     "output_type": "display_data"
    }
   ],
   "source": [
    "df[\"Parking\"].plot.hist() "
   ]
  },
  {
   "cell_type": "code",
   "execution_count": 47,
   "metadata": {},
   "outputs": [
    {
     "data": {
      "text/plain": [
       "<AxesSubplot:ylabel='Frequency'>"
      ]
     },
     "execution_count": 47,
     "metadata": {},
     "output_type": "execute_result"
    },
    {
     "data": {
      "image/png": "[encoded data removed]",
      "text/plain": [
       "<Figure size 432x288 with 1 Axes>"
      ]
     },
     "metadata": {
      "needs_background": "light"
     },
     "output_type": "display_data"
    }
   ],
   "source": [
    "df[\"Elevator\"].plot.hist() "
   ]
  },
  {
   "cell_type": "code",
   "execution_count": 48,
   "metadata": {},
   "outputs": [
    {
     "data": {
      "text/plain": [
       "<AxesSubplot:ylabel='Frequency'>"
      ]
     },
     "execution_count": 48,
     "metadata": {},
     "output_type": "execute_result"
    },
    {
     "data": {
      "image/png": "[encoded data removed]",
      "text/plain": [
       "<Figure size 432x288 with 1 Axes>"
      ]
     },
     "metadata": {
      "needs_background": "light"
     },
     "output_type": "display_data"
    }
   ],
   "source": [
    "df[\"Furnished\"].plot.hist() "
   ]
  },
  {
   "cell_type": "code",
   "execution_count": 49,
   "metadata": {},
   "outputs": [
    {
     "data": {
      "text/plain": [
       "<AxesSubplot:ylabel='Frequency'>"
      ]
     },
     "execution_count": 49,
     "metadata": {},
     "output_type": "execute_result"
    },
    {
     "data": {
      "image/png": "[encoded data removed]",
      "text/plain": [
       "<Figure size 432x288 with 1 Axes>"
      ]
     },
     "metadata": {
      "needs_background": "light"
     },
     "output_type": "display_data"
    }
   ],
   "source": [
    "df[\"Swimming Pool\"].plot.hist() "
   ]
  },
  {
   "cell_type": "code",
   "execution_count": 50,
   "metadata": {},
   "outputs": [
    {
     "data": {
      "text/plain": [
       "<AxesSubplot:ylabel='Frequency'>"
      ]
     },
     "execution_count": 50,
     "metadata": {},
     "output_type": "execute_result"
    },
    {
     "data": {
      "image/png": "[encoded data removed]",
      "text/plain": [
       "<Figure size 432x288 with 1 Axes>"
      ]
     },
     "metadata": {
      "needs_background": "light"
     },
     "output_type": "display_data"
    }
   ],
   "source": [
    "df[\"New\"].plot.hist() "
   ]
  },
  {
   "cell_type": "code",
   "execution_count": 51,
   "metadata": {},
   "outputs": [
    {
     "data": {
      "text/plain": [
       "<AxesSubplot:>"
      ]
     },
     "execution_count": 51,
     "metadata": {},
     "output_type": "execute_result"
    },
    {
     "data": {
      "image/png": "[encoded data removed]",
      "text/plain": [
       "<Figure size 432x288 with 1 Axes>"
      ]
     },
     "metadata": {
      "needs_background": "light"
     },
     "output_type": "display_data"
    }
   ],
   "source": [
    "pd.value_counts(df[\"District\"]).plot.bar() #check info above"
   ]
  },
  {
   "cell_type": "code",
   "execution_count": 52,
   "metadata": {},
   "outputs": [
    {
     "data": {
      "text/plain": [
       "<AxesSubplot:>"
      ]
     },
     "execution_count": 52,
     "metadata": {},
     "output_type": "execute_result"
    },
    {
     "data": {
      "image/png": "[encoded data removed]",
      "text/plain": [
       "<Figure size 432x288 with 1 Axes>"
      ]
     },
     "metadata": {
      "needs_background": "light"
     },
     "output_type": "display_data"
    }
   ],
   "source": [
    "pd.value_counts(df[\"Negotiation Type\"]).plot.bar()"
   ]
  },
  {
   "cell_type": "code",
   "execution_count": 53,
   "metadata": {},
   "outputs": [
    {
     "data": {
      "text/plain": [
       "<AxesSubplot:>"
      ]
     },
     "execution_count": 53,
     "metadata": {},
     "output_type": "execute_result"
    },
    {
     "data": {
      "image/png": "[encoded data removed]",
      "text/plain": [
       "<Figure size 432x288 with 1 Axes>"
      ]
     },
     "metadata": {
      "needs_background": "light"
     },
     "output_type": "display_data"
    }
   ],
   "source": [
    "pd.value_counts(df[\"Property Type\"]).plot.bar() # is redudant"
   ]
  },
  {
   "cell_type": "code",
   "execution_count": 54,
   "metadata": {},
   "outputs": [],
   "source": [
    "# latitude and longitude\n",
    "# read .shp file\n",
    "# add points there\n",
    "# https://towardsdatascience.com/geopandas-101-plot-any-data-with-a-latitude-and-longitude-on-a-map-98e01944b972\n",
    "\n",
    "lat_max = df.loc[df['Latitude'] != 0].max()\n",
    "lat_min = df.loc[df['Latitude'] != 0].min() \n",
    "lon_max = df.loc[df['Longitude'] != 0].max()\n",
    "lon_min = df.loc[df['Longitude'] != 0].min()\n",
    "\n"
   ]
  },
  {
   "cell_type": "code",
   "execution_count": 55,
   "metadata": {},
   "outputs": [],
   "source": [
    "# Data Visualization: Correlations on a graph"
   ]
  },
  {
   "cell_type": "code",
   "execution_count": 56,
   "metadata": {},
   "outputs": [],
   "source": [
    "# After watching the Price distribution we create the labels for each price range"
   ]
  },
  {
   "cell_type": "code",
   "execution_count": 57,
   "metadata": {},
   "outputs": [],
   "source": [
    "# Double Check distribution on price"
   ]
  },
  {
   "cell_type": "code",
   "execution_count": null,
   "metadata": {},
   "outputs": [],
   "source": []
  }
 ],
 "metadata": {
  "interpreter": {
   "hash": "0ce7449f7ae7b5f63b281d9739bcb619ec181efe514d6efd458ab44df70bd91c"
  },
  "kernelspec": {
   "display_name": "Python 3.10.1 64-bit ('env': venv)",
   "language": "python",
   "name": "python3"
  },
  "language_info": {
   "codemirror_mode": {
    "name": "ipython",
    "version": 3
   },
   "file_extension": ".py",
   "mimetype": "text/x-python",
   "name": "python",
   "nbconvert_exporter": "python",
   "pygments_lexer": "ipython3",
   "version": "3.8.5"
  },
  "orig_nbformat": 4
 },
 "nbformat": 4,
 "nbformat_minor": 2
}
